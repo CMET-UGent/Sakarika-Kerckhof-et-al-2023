{
 "cells": [
  {
   "cell_type": "code",
   "execution_count": 1,
   "id": "9e07b320",
   "metadata": {},
   "outputs": [],
   "source": [
    "import os\n",
    "import pandas as pd"
   ]
  },
  {
   "cell_type": "code",
   "execution_count": 2,
   "id": "10a5282c",
   "metadata": {},
   "outputs": [],
   "source": [
    "# put IDs in set\n",
    "rootdir = 'C:/Users/tvdbo/Documents/Projecten/AAquant'\n",
    "identifier_set = set()\n",
    "for subdir, dirs, files in os.walk(rootdir):\n",
    "    for file in files:\n",
    "        if file.endswith(\"protein.tsv\"):\n",
    "            with open(os.path.join(subdir, file), \"r\") as in_f:\n",
    "                next(in_f)\n",
    "                for line in in_f:\n",
    "                    _, _, _, identifier, _ = line.split(\"\\t\", maxsplit=4)\n",
    "                    identifier_set.add(identifier)"
   ]
  },
  {
   "cell_type": "code",
   "execution_count": 3,
   "id": "9021b028",
   "metadata": {},
   "outputs": [],
   "source": [
    "# write IDs to file\n",
    "with open(\"identifiers.txt\", \"w\") as out_f:\n",
    "    for identifier in identifier_set:\n",
    "        print(identifier, file=out_f)"
   ]
  },
  {
   "cell_type": "code",
   "execution_count": null,
   "id": "b2b88753",
   "metadata": {},
   "outputs": [],
   "source": [
    "# TO DO MANUALLY, NOT IN SCRIPT\n",
    "# Put all identifiers in the UniProt batch retrieve tool (https://www.uniprot.org/id-mapping). \n",
    "# UniProtKB AC/ID -> UniProtKB\n",
    "# Enable GO columns \n",
    "# Save as \"ProteinID_GO.tsv\" \n",
    "# Afterwards, it turned out sequences where necessary as well\n",
    "# Repeat process (enable sequences), save as \"ProteinID_sequence.tsv\""
   ]
  },
  {
   "cell_type": "code",
   "execution_count": 3,
   "id": "a6034182",
   "metadata": {},
   "outputs": [],
   "source": [
    "# load GO terms into separate dict\n",
    "GOid_dict = dict()\n",
    "GOcell_dict = dict()\n",
    "GObiol_dict = dict()\n",
    "GOmol_dict = dict()\n",
    "with open(\"ProteinID_GO.tsv\", \"r\") as in_f:\n",
    "    next(in_f)\n",
    "    for line in in_f:\n",
    "        identifier, _, _, _, _, _, GOid, GOcell, GObiol, GOmol, _ = line.split(\"\\t\", maxsplit=10)\n",
    "        GOid_dict[identifier] = GOid\n",
    "        GOcell_dict[identifier] = GOcell\n",
    "        GObiol_dict[identifier] = GObiol\n",
    "        GOmol_dict[identifier] = GOmol\n",
    "\n",
    "# load protein sequences into dict\n",
    "seq_dict = dict()\n",
    "with open(\"ProteinID_sequence.tsv\", \"r\") as in_f:\n",
    "    next(in_f)\n",
    "    for line in in_f:\n",
    "        identifier, _, _, sequence = line.split(\"\\t\", maxsplit=3)\n",
    "        seq_dict[identifier] = sequence"
   ]
  },
  {
   "cell_type": "code",
   "execution_count": 4,
   "id": "0486458d",
   "metadata": {},
   "outputs": [],
   "source": [
    "# add GO terms to new file protein_GO_seq.tsv\n",
    "rootdir = 'C:/Users/tvdbo/Documents/Projecten/AAquant'\n",
    "for subdir, dirs, files in os.walk(rootdir):\n",
    "    for file in files:\n",
    "        if file.endswith(\"protein.tsv\"):\n",
    "            f_check = True\n",
    "            #print(os.path.join(subdir, file))\n",
    "            df = pd.read_csv(os.path.join(subdir, file), sep='\\t', header=0)\n",
    "            df['GO_ids']= df['Protein ID'].map(GOid_dict)\n",
    "            df['GO_cellular_component']= df['Protein ID'].map(GOcell_dict)\n",
    "            df['GO_biological_process']= df['Protein ID'].map(GObiol_dict)\n",
    "            df['GO_molecular_function']= df['Protein ID'].map(GOmol_dict)\n",
    "            df['Sequence']= df['Protein ID'].map(seq_dict)\n",
    "            df.to_csv(os.path.join(subdir, file.replace(\".tsv\", \"_GO_seq.tsv\")), sep='\\t', index=False)\n"
   ]
  }
 ],
 "metadata": {
  "kernelspec": {
   "display_name": "Python 3",
   "language": "python",
   "name": "python3"
  },
  "language_info": {
   "codemirror_mode": {
    "name": "ipython",
    "version": 3
   },
   "file_extension": ".py",
   "mimetype": "text/x-python",
   "name": "python",
   "nbconvert_exporter": "python",
   "pygments_lexer": "ipython3",
   "version": "3.8.8"
  }
 },
 "nbformat": 4,
 "nbformat_minor": 5
}
